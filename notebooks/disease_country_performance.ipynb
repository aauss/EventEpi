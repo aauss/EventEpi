{
 "cells": [
  {
   "cell_type": "code",
   "execution_count": 1,
   "metadata": {},
   "outputs": [
    {
     "name": "stderr",
     "output_type": "stream",
     "text": [
      "C:\\Users\\Auss\\Miniconda3\\envs\\eventepi\\lib\\site-packages\\tqdm\\std.py:666: FutureWarning: The Panel class is removed from pandas. Accessing it from the top-level namespace will also be removed in the next version\n",
      "  from pandas import Panel\n"
     ]
    }
   ],
   "source": [
    "import sys\n",
    "sys.path.append(\"../../eventepi\")\n",
    "\n",
    "from collections import Counter\n",
    "\n",
    "import pandas as pd\n",
    "from epitator.annotator import AnnoDoc\n",
    "from epitator.count_annotator import CountAnnotator\n",
    "from epitator.date_annotator import DateAnnotator\n",
    "\n",
    "from eventepi.corpus_reader import PickledCorpusReader\n",
    "from eventepi.idb import IDB\n",
    "from eventepi.summarize import Summarizer"
   ]
  },
  {
   "cell_type": "code",
   "execution_count": 2,
   "metadata": {},
   "outputs": [],
   "source": [
    "idb = IDB()\n",
    "idb.preprocess()\n",
    "preprocessed_idb = idb.df_processed"
   ]
  },
  {
   "cell_type": "code",
   "execution_count": 3,
   "metadata": {},
   "outputs": [
    {
     "data": {
      "text/html": [
       "<div>\n",
       "<style scoped>\n",
       "    .dataframe tbody tr th:only-of-type {\n",
       "        vertical-align: middle;\n",
       "    }\n",
       "\n",
       "    .dataframe tbody tr th {\n",
       "        vertical-align: top;\n",
       "    }\n",
       "\n",
       "    .dataframe thead th {\n",
       "        text-align: right;\n",
       "    }\n",
       "</style>\n",
       "<table border=\"1\" class=\"dataframe\">\n",
       "  <thead>\n",
       "    <tr style=\"text-align: right;\">\n",
       "      <th></th>\n",
       "      <th>url_idb</th>\n",
       "      <th>date_cases_idb</th>\n",
       "      <th>case_counts_idb</th>\n",
       "      <th>country_idb</th>\n",
       "      <th>disease_idb</th>\n",
       "      <th>fileid</th>\n",
       "    </tr>\n",
       "  </thead>\n",
       "  <tbody>\n",
       "    <tr>\n",
       "      <th>0</th>\n",
       "      <td>http://www.who.int/csr/don/15-march-2018-mers-...</td>\n",
       "      <td>NaN</td>\n",
       "      <td>NaN</td>\n",
       "      <td>Oman</td>\n",
       "      <td>Middle east respiratory syndrome</td>\n",
       "      <td>who_dons/15-march-2018-mers-oman.html</td>\n",
       "    </tr>\n",
       "    <tr>\n",
       "      <th>1</th>\n",
       "      <td>http://www.who.int/csr/don/09-april-2018-liste...</td>\n",
       "      <td>2018-03-02</td>\n",
       "      <td>20.0</td>\n",
       "      <td>Australia</td>\n",
       "      <td>Listeriosis</td>\n",
       "      <td>who_dons/09-april-2018-listeriosis-australia.html</td>\n",
       "    </tr>\n",
       "    <tr>\n",
       "      <th>2</th>\n",
       "      <td>https://promedmail.org/promed-post/?id=&amp;id=575...</td>\n",
       "      <td>NaN</td>\n",
       "      <td>NaN</td>\n",
       "      <td>Bolivia</td>\n",
       "      <td>Plague</td>\n",
       "      <td>promed/2018-04-17_id5752357.html</td>\n",
       "    </tr>\n",
       "    <tr>\n",
       "      <th>3</th>\n",
       "      <td>https://promedmail.org/promed-post/?id=&amp;id=573...</td>\n",
       "      <td>NaN</td>\n",
       "      <td>NaN</td>\n",
       "      <td>Yemen</td>\n",
       "      <td>Cholera</td>\n",
       "      <td>promed/2018-04-07_id5732129.html</td>\n",
       "    </tr>\n",
       "    <tr>\n",
       "      <th>4</th>\n",
       "      <td>https://promedmail.org/promed-post/?id=&amp;id=574...</td>\n",
       "      <td>NaN</td>\n",
       "      <td>65.0</td>\n",
       "      <td>La Reunion</td>\n",
       "      <td>Leptospirosis</td>\n",
       "      <td>promed/2018-04-14_id5746842.html</td>\n",
       "    </tr>\n",
       "  </tbody>\n",
       "</table>\n",
       "</div>"
      ],
      "text/plain": [
       "                                             url_idb date_cases_idb  \\\n",
       "0  http://www.who.int/csr/don/15-march-2018-mers-...            NaN   \n",
       "1  http://www.who.int/csr/don/09-april-2018-liste...     2018-03-02   \n",
       "2  https://promedmail.org/promed-post/?id=&id=575...            NaN   \n",
       "3  https://promedmail.org/promed-post/?id=&id=573...            NaN   \n",
       "4  https://promedmail.org/promed-post/?id=&id=574...            NaN   \n",
       "\n",
       "   case_counts_idb country_idb                       disease_idb  \\\n",
       "0              NaN        Oman  Middle east respiratory syndrome   \n",
       "1             20.0   Australia                       Listeriosis   \n",
       "2              NaN     Bolivia                            Plague   \n",
       "3              NaN       Yemen                           Cholera   \n",
       "4             65.0  La Reunion                     Leptospirosis   \n",
       "\n",
       "                                              fileid  \n",
       "0              who_dons/15-march-2018-mers-oman.html  \n",
       "1  who_dons/09-april-2018-listeriosis-australia.html  \n",
       "2                   promed/2018-04-17_id5752357.html  \n",
       "3                   promed/2018-04-07_id5732129.html  \n",
       "4                   promed/2018-04-14_id5746842.html  "
      ]
     },
     "execution_count": 3,
     "metadata": {},
     "output_type": "execute_result"
    }
   ],
   "source": [
    "preprocessed_idb.head()"
   ]
  },
  {
   "cell_type": "code",
   "execution_count": 4,
   "metadata": {},
   "outputs": [],
   "source": [
    "summarizer = Summarizer()\n",
    "corpus = PickledCorpusReader()"
   ]
  },
  {
   "cell_type": "code",
   "execution_count": 5,
   "metadata": {},
   "outputs": [],
   "source": [
    "texts_of_preprocessed_idb = list(corpus.docs(preprocessed_idb.fileid.str.replace(\".html\", \".pickle\")))"
   ]
  },
  {
   "cell_type": "code",
   "execution_count": 6,
   "metadata": {},
   "outputs": [],
   "source": [
    "summarized = summarizer.summarize(texts_of_preprocessed_idb)"
   ]
  },
  {
   "cell_type": "code",
   "execution_count": 7,
   "metadata": {},
   "outputs": [
    {
     "data": {
      "text/plain": [
       "{'disease': 'Middle East respiratory syndrome', 'geoname': 'Sultanate of Oman'}"
      ]
     },
     "execution_count": 7,
     "metadata": {},
     "output_type": "execute_result"
    }
   ],
   "source": [
    "summarized[0]"
   ]
  },
  {
   "cell_type": "code",
   "execution_count": 8,
   "metadata": {},
   "outputs": [],
   "source": [
    "# If this script is run the first time, uncomment and save the extraction performance CSVs\n",
    "# Otherwise, load the manually scored performance of the key entity extraction using the most frequent approach\n",
    "\n",
    "# pd.DataFrame(\n",
    "#     {\n",
    "#         \"summarized\": [i[\"disease\"] for i in summarized], \n",
    "#         \"idb\": preprocessed_idb[\"disease_idb\"],\n",
    "#         \"correct\": [0] * len(preprocessed_idb)\n",
    "#     }\n",
    "# ).to_csv(\"data/disease_extraction_performance.csv\")\n",
    "\n",
    "# pd.DataFrame(\n",
    "#     {\n",
    "#         \"summarized\": [i[\"geoname\"] for i in summarized], \n",
    "#         \"idb\": preprocessed_idb[\"country_idb\"],\n",
    "#         \"correct\": [0] * len(preprocessed_idb)\n",
    "#     }\n",
    "# ).to_csv(\"data/country_extraction_performance.csv\")"
   ]
  },
  {
   "cell_type": "markdown",
   "metadata": {},
   "source": [
    "# After manually scoring"
   ]
  },
  {
   "cell_type": "code",
   "execution_count": 8,
   "metadata": {},
   "outputs": [
    {
     "name": "stdout",
     "output_type": "stream",
     "text": [
      "0.9411764705882353\n",
      "1.0    112\n",
      "0.0      7\n",
      "Name: correct, dtype: int64\n"
     ]
    }
   ],
   "source": [
    "diseases = pd.read_csv(\"data/disease_extraction_performance.csv\")\n",
    "print(diseases[\"correct\"].mean())\n",
    "print(diseases[\"correct\"].value_counts())"
   ]
  },
  {
   "cell_type": "code",
   "execution_count": 9,
   "metadata": {},
   "outputs": [
    {
     "data": {
      "text/plain": [
       "8"
      ]
     },
     "execution_count": 9,
     "metadata": {},
     "output_type": "execute_result"
    }
   ],
   "source": [
    "sum(diseases.summarized.isna() & diseases.idb.notna())  # Entries where EpiTator failed to detect the disease"
   ]
  },
  {
   "cell_type": "code",
   "execution_count": 10,
   "metadata": {},
   "outputs": [
    {
     "name": "stdout",
     "output_type": "stream",
     "text": [
      "0.8545454545454545\n",
      "1.0    141\n",
      "0.0     24\n",
      "Name: correct, dtype: int64\n"
     ]
    }
   ],
   "source": [
    "countries = pd.read_csv(\"data/country_extraction_performance.csv\")\n",
    "print(countries[\"correct\"].mean())\n",
    "print(countries[\"correct\"].value_counts())"
   ]
  },
  {
   "cell_type": "code",
   "execution_count": 11,
   "metadata": {},
   "outputs": [
    {
     "data": {
      "text/plain": [
       "1"
      ]
     },
     "execution_count": 11,
     "metadata": {},
     "output_type": "execute_result"
    }
   ],
   "source": [
    "sum(countries.summarized.isna() & countries.idb.notna())  # Entries where EpiTator failed to detect the country"
   ]
  },
  {
   "cell_type": "markdown",
   "metadata": {},
   "source": [
    "### Check most-frequent for dates and counts"
   ]
  },
  {
   "cell_type": "code",
   "execution_count": 12,
   "metadata": {},
   "outputs": [],
   "source": [
    "def most_frequent_count(doc):\n",
    "    try:\n",
    "        counts = [i.metadata[\"count\"] for i in doc.tiers[\"counts\"].spans]\n",
    "        return Counter(counts).most_common(1)[0][0]\n",
    "    except Exception:\n",
    "        return \"\"\n",
    "\n",
    "def most_frequent_date(doc):\n",
    "    try:\n",
    "        dates = [i.metadata[\"dates\"].metadata[\"datetime_range\"][0] for i in doc.tiers[\"dates\"].spans]\n",
    "        return Counter(dates).most_common(1)[0][0]\n",
    "    except Exception:\n",
    "        return \"\"\n",
    "    \n",
    "def annotate(text):\n",
    "    doc = AnnoDoc(text)\n",
    "    doc.add_tiers(CountAnnotator())\n",
    "    doc.add_tiers(DateAnnotator())\n",
    "    return doc\n",
    "def is_in_date_range(found, target):\n",
    "    return ((target - pd.Timedelta(\"3days\")) >= found) & ((target + pd.Timedelta(\"3days\")) <= target)"
   ]
  },
  {
   "cell_type": "code",
   "execution_count": 13,
   "metadata": {},
   "outputs": [],
   "source": [
    "most_frequents = {\"count\": [], \"date\": []}\n",
    "for text in texts_of_preprocessed_idb:\n",
    "    doc = annotate(text)\n",
    "    most_frequents[\"count\"].append(most_frequent_count(doc))\n",
    "    most_frequents[\"date\"].append(most_frequent_date(doc))"
   ]
  },
  {
   "cell_type": "code",
   "execution_count": 14,
   "metadata": {},
   "outputs": [
    {
     "name": "stderr",
     "output_type": "stream",
     "text": [
      "C:\\Users\\Auss\\Miniconda3\\envs\\eventepi\\lib\\site-packages\\pandas\\core\\ops\\array_ops.py:253: FutureWarning: elementwise comparison failed; returning scalar instead, but in the future will perform elementwise comparison\n",
      "  res_values = method(rvalues)\n"
     ]
    },
    {
     "data": {
      "text/plain": [
       "0"
      ]
     },
     "execution_count": 14,
     "metadata": {},
     "output_type": "execute_result"
    }
   ],
   "source": [
    "sum(preprocessed_idb.case_counts_idb == most_frequents[\"count\"])"
   ]
  },
  {
   "cell_type": "code",
   "execution_count": 15,
   "metadata": {},
   "outputs": [],
   "source": [
    "matches = []\n",
    "for i, target in enumerate(preprocessed_idb.date_cases_idb.values):\n",
    "    matches.append(is_in_date_range(pd.to_datetime(most_frequents[\"date\"][i]), pd.to_datetime(target)))"
   ]
  },
  {
   "cell_type": "code",
   "execution_count": 16,
   "metadata": {},
   "outputs": [
    {
     "data": {
      "text/plain": [
       "0"
      ]
     },
     "execution_count": 16,
     "metadata": {},
     "output_type": "execute_result"
    }
   ],
   "source": [
    "sum(matches)"
   ]
  }
 ],
 "metadata": {
  "kernelspec": {
   "display_name": "Python 3",
   "language": "python",
   "name": "python3"
  },
  "language_info": {
   "codemirror_mode": {
    "name": "ipython",
    "version": 3
   },
   "file_extension": ".py",
   "mimetype": "text/x-python",
   "name": "python",
   "nbconvert_exporter": "python",
   "pygments_lexer": "ipython3",
   "version": "3.7.7"
  }
 },
 "nbformat": 4,
 "nbformat_minor": 4
}
