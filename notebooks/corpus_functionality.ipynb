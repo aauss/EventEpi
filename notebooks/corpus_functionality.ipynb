{
 "cells": [
  {
   "cell_type": "code",
   "execution_count": 1,
   "metadata": {},
   "outputs": [],
   "source": [
    "import sys\n",
    "sys.path.append(\"../../eventepi\")\n",
    "\n",
    "from eventepi.corpus_reader import EpiCorpusReader, PickledCorpusReader"
   ]
  },
  {
   "cell_type": "markdown",
   "metadata": {},
   "source": [
    "# This notebook intends to show the corpus functionality"
   ]
  },
  {
   "cell_type": "markdown",
   "metadata": {},
   "source": [
    "### EpiCorpusReader is a corpus reader for the raw, scraped ProMED Mail and WHO DONs HTML files "
   ]
  },
  {
   "cell_type": "code",
   "execution_count": 2,
   "metadata": {},
   "outputs": [],
   "source": [
    "epi_reader = EpiCorpusReader()"
   ]
  },
  {
   "cell_type": "code",
   "execution_count": 3,
   "metadata": {},
   "outputs": [
    {
     "data": {
      "text/plain": [
       "['promed/1994-08-19_id2186076.html',\n",
       " 'promed/1996-01-03_id2187644.html',\n",
       " 'promed/1996-01-03_id2187645.html',\n",
       " 'promed/1996-01-03_id2187646.html',\n",
       " 'promed/1996-01-03_id2187647.html']"
      ]
     },
     "execution_count": 3,
     "metadata": {},
     "output_type": "execute_result"
    }
   ],
   "source": [
    "# Contains a list of the available file IDs\n",
    "epi_reader.fileids()[:5]"
   ]
  },
  {
   "cell_type": "code",
   "execution_count": 4,
   "metadata": {},
   "outputs": [
    {
     "data": {
      "text/plain": [
       "FileSystemPathPointer('C:\\\\Users\\\\Auss\\\\github\\\\EventEpi\\\\data\\\\corpus\\\\promed\\\\1996-01-03_id2187647.html')"
      ]
     },
     "execution_count": 4,
     "metadata": {},
     "output_type": "execute_result"
    }
   ],
   "source": [
    "# Returns an absolute path given a file ID\n",
    "epi_reader.abspath(\"promed/1996-01-03_id2187647.html\")"
   ]
  },
  {
   "cell_type": "code",
   "execution_count": 5,
   "metadata": {},
   "outputs": [
    {
     "name": "stdout",
     "output_type": "stream",
     "text": [
      "<span class=\"printable\"><p><img src=\"https://promedmail.org/wp-content/plugins/promed-latest-post/assets/images/printer.gif\"/><a href=\"javascript:;\" onclick=\"window.open('https://promedmail.org/promed-post/?id=2187647');\"> View printable version</a> &nbsp; Share this post: <span class=\"addthis\"><a href=\"javascript:;\" onclick=\"window.open('http://api.addthis.com/oexchange/0.8/forward/facebook/offer?url=http%3A%2F%2Fwww.promedmail.org%2Fpost%2F2187647');\"><img src=\"https://promedmail.org/wp-content/plugins/promed-latest-post/assets/images/share_fb.gif\" class=\"share\" /> </a></span> <span class=\"addthis\"><a href=\"javascript:;\" onclick=\"window.open('http://api.addthis.com/oexchange/0.8/forward/twitter/offer?url=http%3A%2F%2Fwww.promedmail.org%2Fpost%2F2187647');\"><img src=\"https://promedmail.org/wp-content/plugins/promed-latest-post/assets/images/share_tw.gif\" class=\"share\" /> </a></span> <span class=\"addthis\"><a href=\"javascript:;\" onclick=\"window.open('http://api.addthis.com/oexchange/0.8\n"
     ]
    }
   ],
   "source": [
    "# Returns the raw docs given categories or fileids\n",
    "print(next(epi_reader.docs(\"promed/1996-01-03_id2187647.html\"))[:1000])"
   ]
  },
  {
   "cell_type": "code",
   "execution_count": 6,
   "metadata": {},
   "outputs": [
    {
     "name": "stdout",
     "output_type": "stream",
     "text": [
      "<html><body><div><div class=\"text1\"><p>FOOT &amp; MOUTH DISEASE VACCINATION - BRAZIL</p><p>==========================================</p><p>ex: Animal Pharm</p><p>As of January, 1996, factory-gate price of oil-based FMD vaccines</p><p>in Brazil are expected to go from R$0.42 to R$0.45 (US$0.47) per</p><p>dose. The prices have been static since May 1994 and reflect </p><p>changes in new industry costs. Under new national legislation,</p><p>vaccine production standards have been upgraded to meet Min of Ag</p><p>biosecurity standards. These insist on no virus escapes.</p><p>The only manufacturer in compliance is Bayer in Rio Grande do Sul,</p><p>which spent US$4 million to upgrade its facilities. Under the new</p><p>regulations a state cannot be considered free from FMD if in-state</p><p>vaccine plants do not meet the new standards. Rio Grande do Sul</p><p>recorded its last FMD outbreak in 1993 and was the first Brasilian</p><p>state to adopt this legislation.</p><p>The next state expecte\n"
     ]
    }
   ],
   "source": [
    "# Returns the a readable html given categories or fileids\n",
    "print(next(epi_reader.readables(\"promed/1996-01-03_id2187647.html\"))[:1000])"
   ]
  },
  {
   "cell_type": "code",
   "execution_count": 7,
   "metadata": {},
   "outputs": [
    {
     "name": "stdout",
     "output_type": "stream",
     "text": [
      "FOOT & MOUTH DISEASE VACCINATION - BRAZIL\n",
      "\n",
      "==========================================\n",
      "\n",
      "ex: Animal Pharm\n",
      "\n",
      "As of January, 1996, factory-gate price of oil-based FMD vaccines\n",
      "\n",
      "in Brazil are expected to go from R$0.42 to R$0.45 (US$0.47) per\n",
      "\n",
      "dose. The prices have been static since May 1994 and reflect\n",
      "\n",
      "changes in new industry costs. Under new national legislation,\n",
      "\n",
      "vaccine production standards have been upgraded to meet Min of Ag\n",
      "\n",
      "biosecurity standards. These insist on no virus escapes.\n",
      "\n",
      "The only manufacturer in compliance is Bayer in Rio Grande do Sul,\n",
      "\n",
      "which spent US$4 million to upgrade its facilities. Under the new\n",
      "\n",
      "regulations a state cannot be considered free from FMD if in-state\n",
      "\n",
      "vaccine plants do not meet the new standards. Rio Grande do Sul\n",
      "\n",
      "recorded its last FMD outbreak in 1993 and was the first Brasilian\n",
      "\n",
      "state to adopt this legislation.\n",
      "\n",
      "The next state expected to adopt this legislation is Sao Paulo, which\n",
      "\n",
      "has the Pfizer, Rhodia, and Mallinckrodt vaccine companies. A casualty\n"
     ]
    }
   ],
   "source": [
    "# Returns the raw text of a readable html given fileiids\n",
    "print(next(epi_reader.texts(\"promed/1996-01-03_id2187647.html\"))[:1000])"
   ]
  },
  {
   "cell_type": "code",
   "execution_count": 8,
   "metadata": {},
   "outputs": [
    {
     "name": "stderr",
     "output_type": "stream",
     "text": [
      "Transform and pickle corpus: 100%|██████████| 61320/61320 [22:21<00:00, 45.70it/s]\n"
     ]
    }
   ],
   "source": [
    "# Transforms the whole corpus with epi_reader.transform() and pickles the result\n",
    "epi_reader.transform()"
   ]
  },
  {
   "cell_type": "markdown",
   "metadata": {},
   "source": [
    "### PickledCorpusReader is a corpus reader for preprocessed, pickled, ProMED Mail and WHO DONs files"
   ]
  },
  {
   "cell_type": "code",
   "execution_count": 9,
   "metadata": {},
   "outputs": [],
   "source": [
    "pickle_reader = PickledCorpusReader()"
   ]
  },
  {
   "cell_type": "code",
   "execution_count": 10,
   "metadata": {},
   "outputs": [
    {
     "data": {
      "text/plain": [
       "['promed/1994-08-19_id2186076.pickle',\n",
       " 'promed/1996-01-03_id2187644.pickle',\n",
       " 'promed/1996-01-03_id2187645.pickle',\n",
       " 'promed/1996-01-03_id2187646.pickle',\n",
       " 'promed/1996-01-03_id2187647.pickle']"
      ]
     },
     "execution_count": 10,
     "metadata": {},
     "output_type": "execute_result"
    }
   ],
   "source": [
    "# Contains a list of the available file IDs\n",
    "pickle_reader.fileids()[:5]"
   ]
  },
  {
   "cell_type": "code",
   "execution_count": 11,
   "metadata": {},
   "outputs": [
    {
     "data": {
      "text/plain": [
       "FileSystemPathPointer('C:\\\\Users\\\\Auss\\\\github\\\\EventEpi\\\\data\\\\corpus_processed\\\\promed\\\\1996-01-03_id2187647.pickle')"
      ]
     },
     "execution_count": 11,
     "metadata": {},
     "output_type": "execute_result"
    }
   ],
   "source": [
    "# Returns an absolute path given a file ID\n",
    "pickle_reader.abspath('promed/1996-01-03_id2187647.pickle')"
   ]
  },
  {
   "cell_type": "code",
   "execution_count": 12,
   "metadata": {},
   "outputs": [
    {
     "name": "stdout",
     "output_type": "stream",
     "text": [
      "\n",
      "\n",
      "FOOT & MOUTH DISEASE VACCINATION - BRAZIL\n",
      "\n",
      "==========================================\n",
      "\n",
      "ex: Animal Pharm\n",
      "\n",
      "As of January, 1996, factory-gate price of oil-based FMD vaccines\n",
      "\n",
      "in Brazil are expected to go from R$0.42 to R$0.45 (US$0.47) per\n",
      "\n",
      "dose. The prices have been static since May 1994 and reflect\n",
      "\n",
      "changes in new industry costs. Under new national legislation,\n",
      "\n",
      "vaccine production standards have been upgraded to meet Min of Ag\n",
      "\n",
      "biosecurity standards. These insist on no virus escapes.\n",
      "\n",
      "The only manufacturer in compliance is Bayer in Rio Grande do Sul,\n",
      "\n",
      "which spent US$4 million to upgrade its facilities. Under the new\n",
      "\n",
      "regulations a state cannot be considered free from FMD if in-state\n",
      "\n",
      "vaccine plants do not meet the new standards. Rio Grande do Sul\n",
      "\n",
      "recorded its last FMD outbreak in 1993 and was the first Brasilian\n",
      "\n",
      "state to adopt this legislation.\n",
      "\n",
      "The next state expected to adopt this legislation is Sao Paulo, which\n",
      "\n",
      "has the Pfizer, Rhodia, and Mallinckrodt vaccine companies. A casual\n"
     ]
    }
   ],
   "source": [
    "# Returns the raw text of a readable html given fileiids\n",
    "print(next(pickle_reader.docs('promed/1996-01-03_id2187647.pickle'))[:1000])"
   ]
  }
 ],
 "metadata": {
  "kernelspec": {
   "display_name": "Python 3",
   "language": "python",
   "name": "python3"
  },
  "language_info": {
   "codemirror_mode": {
    "name": "ipython",
    "version": 3
   },
   "file_extension": ".py",
   "mimetype": "text/x-python",
   "name": "python",
   "nbconvert_exporter": "python",
   "pygments_lexer": "ipython3",
   "version": "3.7.7"
  }
 },
 "nbformat": 4,
 "nbformat_minor": 4
}
