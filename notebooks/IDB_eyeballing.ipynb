{
 "cells": [
  {
   "cell_type": "code",
   "execution_count": 1,
   "metadata": {},
   "outputs": [],
   "source": [
    "import pandas as pd"
   ]
  },
  {
   "cell_type": "code",
   "execution_count": 2,
   "metadata": {},
   "outputs": [
    {
     "data": {
      "text/plain": [
       "Index(['Ausgangs- bzw. Ausbruchsland', 'Krankheitsbild(er)',\n",
       "       'Datenstand für Fallzahlen gesamt*', 'Fälle gesamt*',\n",
       "       'Link zur Quelle 1', 'Link zur Quelle 2', 'Link zur Quelle 3',\n",
       "       'Link zur Quelle 4'],\n",
       "      dtype='object')"
      ]
     },
     "execution_count": 2,
     "metadata": {},
     "output_type": "execute_result"
    }
   ],
   "source": [
    "idb = pd.read_csv(\"../eventepi/data/idb.csv\")\n",
    "idb = idb.rename(columns=lambda x: x.strip())\n",
    "idb.columns"
   ]
  },
  {
   "cell_type": "markdown",
   "metadata": {},
   "source": [
    "# This notebook intends to eyeball the IDB and to justify cleaning steps in ```eventepi/idb.py```"
   ]
  },
  {
   "cell_type": "code",
   "execution_count": 3,
   "metadata": {},
   "outputs": [],
   "source": [
    "# Bring into long format\n",
    "idb = idb.dropna(how=\"all\").melt(\n",
    "    id_vars=[\n",
    "        \"Ausgangs- bzw. Ausbruchsland\",\n",
    "        \"Krankheitsbild(er)\",\n",
    "        \"Datenstand für Fallzahlen gesamt*\",\n",
    "        \"Fälle gesamt*\",\n",
    "    ],\n",
    "    value_vars=[\n",
    "        \"Link zur Quelle 1\",\n",
    "        \"Link zur Quelle 2\",\n",
    "        \"Link zur Quelle 3\",\n",
    "        \"Link zur Quelle 4\",\n",
    "    ],\n",
    "    var_name=\"url_type_idb\",\n",
    "    value_name=\"url_idb\",\n",
    ")"
   ]
  },
  {
   "cell_type": "markdown",
   "metadata": {},
   "source": [
    "## Clean up URLs\n",
    "### The following steps intend to filter only those URLs that later can be matched with scraped articles to create labels for ML algorithms"
   ]
  },
  {
   "cell_type": "code",
   "execution_count": 4,
   "metadata": {},
   "outputs": [],
   "source": [
    "idb = idb[idb.url_idb.str.contains(\"/don|promed\", na=False)]\n",
    "idb = idb[idb[\"url_idb\"].astype(str).str.contains(\"http\")]\n",
    "idb = idb.loc[idb[\"url_idb\"] != \"http://www.promedmail.org/\"]"
   ]
  },
  {
   "cell_type": "markdown",
   "metadata": {},
   "source": [
    "Now we only have valid URLs of WHO DON and ProMED articles. Not shown here: in ```idb.py``` the function ```_normalize_promed_urls()``` is additionally applied to match the URL layout to the scraped URL layout and replace one wronlgy written URL."
   ]
  },
  {
   "cell_type": "code",
   "execution_count": 5,
   "metadata": {
    "collapsed": true,
    "jupyter": {
     "outputs_hidden": true
    }
   },
   "outputs": [
    {
     "data": {
      "text/plain": [
       "array(['http://www.who.int/csr/don/15-march-2018-mers-oman/en/  ',\n",
       "       'http://www.who.int/csr/don/09-april-2018-listeriosis-australia/en/',\n",
       "       'http://www.promedmail.org/post/5752357',\n",
       "       'http://www.promedmail.org/post/5732129',\n",
       "       'http://www.promedmail.org/post/5746842',\n",
       "       'http://www.promedmail.org/post/5760078',\n",
       "       'http://www.promedmail.org/post/5761531',\n",
       "       'http://www.promedmail.org/post/5786653',\n",
       "       'http://www.promedmail.org/direct.php?id=20180426.5770330',\n",
       "       'http://www.promedmail.org/post/5788496',\n",
       "       'http://www.promedmail.org/post/5837791',\n",
       "       'http://www.promedmail.org/post/5791763',\n",
       "       'http://www.promedmail.org/post/5840563',\n",
       "       'http://www.promedmail.org/post/5790914',\n",
       "       'http://www.promedmail.org/post/5805270',\n",
       "       'http://www.promedmail.org/post/5822566',\n",
       "       'http://www.promedmail.org/post/5833137',\n",
       "       'http://www.promedmail.org/post/5836545',\n",
       "       'http://www.promedmail.org/post/5835487',\n",
       "       'http://www.promedmail.org/post/20180530.5829389',\n",
       "       'http://www.who.int/csr/don/31-may-2018-nipah-virus-india/en/',\n",
       "       'http://www.promedmail.org/post/5835120',\n",
       "       'http://www.promedmail.org/post/5840545',\n",
       "       'http://www.promedmail.org/post/5838919',\n",
       "       'http://www.promedmail.org/post/5841306',\n",
       "       'http://www.promedmail.org/post/5824390',\n",
       "       'http://www.promedmail.org/post/5847216',\n",
       "       'http://www.who.int/csr/don/11-june-2018-measles-brazil/en/',\n",
       "       'http://www.promedmail.org/post/5850987',\n",
       "       'http://www.promedmail.org/post/5853254',\n",
       "       'http://www.promedmail.org/post/5852925',\n",
       "       'http://www.promedmail.org/post/5849681',\n",
       "       'http://www.promedmail.org/post/5852928',\n",
       "       'http://www.promedmail.org/post/5858754',\n",
       "       'http://www.promedmail.org/post/5858590',\n",
       "       'http://www.who.int/csr/don/18-june-2018-rift-valley-fever-kenya/en/ ',\n",
       "       'http://www.promedmail.org/ ',\n",
       "       'http://www.promedmail.org/post/5884148',\n",
       "       'http://www.promedmail.org/post/5888125',\n",
       "       'http://www.promedmail.org/post/5887151',\n",
       "       'http://www.promedmail.org/post/5896040',\n",
       "       'http://www.promedmail.org/post/5898495',\n",
       "       'http://www.promedmail.org/post/5900435',\n",
       "       'http://www.promedmail.org/post/5901029',\n",
       "       'http://www.promedmail.org/post/5905474',\n",
       "       'http://www.promedmail.org/direct.php?id=20180726.5928463',\n",
       "       'http://www.promedmail.org/post/5932183',\n",
       "       'http://www.promedmail.org/post/5845573',\n",
       "       'http://www.promedmail.org/post/5936610',\n",
       "       'http://www.who.int/csr/don/07-august-2018-nipah-virus-india/en/',\n",
       "       'https://www.promedmail.org/post/5949636',\n",
       "       'https://www.promedmail.org/post/5955369',\n",
       "       'http://www.promedmail.org/post/5957008',\n",
       "       'http://www.promedmail.org/post/5960517',\n",
       "       'http://www.promedmail.org/post/5961171',\n",
       "       'http://www.promedmail.org/post/5962202',\n",
       "       'http://www.promedmail.org/post/5962203',\n",
       "       'http://www.promedmail.org/post/20180814.5965116',\n",
       "       'http://promedmail.org/post/5963650 ',\n",
       "       'http://www.who.int/csr/don/02-July-2018-polio-png/en/',\n",
       "       'http://promedmail.org/post/5946019 ',\n",
       "       'http://www.promedmail.org/post/5968728',\n",
       "       'http://www.promedmail.org/post/5966615',\n",
       "       'http://www.promedmail.org/post/5969701',\n",
       "       'http://www.promedmail.org/post/5970435',\n",
       "       'http://www.promedmail.org/post/5970563',\n",
       "       'http://www.promedmail.org/post/5972699',\n",
       "       'http://www.promedmail.org/post/5976772',\n",
       "       'http://www.promedmail.org/post/5979055',\n",
       "       'http://www.promedmail.org/post/5983079',\n",
       "       'http://www.promedmail.org/post/5993651',\n",
       "       'http://www.who.int/csr/don/24-august-2018-yellow-fever-french-guiana/en/',\n",
       "       'http://www.promedmail.org/post/5999950',\n",
       "       'http://www.promedmail.org/post/5998414',\n",
       "       'http://www.promedmail.org/post/6002235',\n",
       "       'http://www.who.int/csr/don/31-august-2018-mers-united-kingdom/en/',\n",
       "       'http://www.promedmail.org/post/5994006',\n",
       "       'http://www.promedmail.org/post/6003093',\n",
       "       'http://www.promedmail.org/post/5998148',\n",
       "       'http://www.promedmail.org/post/6004970',\n",
       "       'http://www.promedmail.org/post/6007145',\n",
       "       'http://www.promedmail.org/post/201809016002180',\n",
       "       'http://www.promedmail.org/post/20180905.6010222',\n",
       "       'http://www.promedmail.org/post/20180905.6009759',\n",
       "       'http://www.promedmail.org/post/201808305997572',\n",
       "       'http://www.promedmail.org/post/20180329.5717098',\n",
       "       'http://www.promedmail.org/post/20180723.5921911',\n",
       "       'http://www.promedmail.org/post/20180904.6006845',\n",
       "       'http://promedmail.org/post/20180909.6018117 ',\n",
       "       'http://promedmail.org/post/20180908.6017005 ',\n",
       "       'http://promedmail.org/post/20180908.6016517 ',\n",
       "       'http://www.promedmail.org/post/6023180',\n",
       "       'http://www.promedmail.org/post/6025528',\n",
       "       'http://www.promedmail.org/post/6032455',\n",
       "       'http://www.promedmail.org/post/6045574',\n",
       "       'http://www.promedmail.org/direct.php?id=20180929.6059979 ',\n",
       "       'http://www.promedmail.org/post/6065964',\n",
       "       'http://www.who.int/csr/don/05-october-2018-monkeypox-nigeria/en/',\n",
       "       'http://www.promedmail.org/post/6069771',\n",
       "       'http://www.promedmail.org/post/6078917',\n",
       "       'http://www.promedmail.org/post/6079171',\n",
       "       'http://www.promedmail.org/post/6081498',\n",
       "       'http://www.promedmail.org/post/6081308',\n",
       "       'https://www.promedmail.org/post/6085684',\n",
       "       'http://www.promedmail.org/post/6088822',\n",
       "       'http://www.promedmail.org/post/6094845',\n",
       "       'http://www.promedmail.org/post/6096128',\n",
       "       'http://www.promedmail.org/post/6096216',\n",
       "       'http://www.promedmail.org/post/6097249',\n",
       "       'http://www.promedmail.org/post/6101954',\n",
       "       'http://www.promedmail.org/post/6102737',\n",
       "       'http://www.promedmail.org/post/6105628',\n",
       "       'http://www.promedmail.org/post/6110086',\n",
       "       'http://www.promedmail.org/post/6111462',\n",
       "       'http://www.promedmail.org/post/6110667',\n",
       "       'http://www.promedmail.org/post/6115566',\n",
       "       'http://www.promedmail.org/post/6119637',\n",
       "       'http://www.who.int/csr/don/30-october-2018-polio-niger/en/',\n",
       "       'http://www.promedmail.org/post/6117463',\n",
       "       'http://www.promedmail.org/post/6130210',\n",
       "       'http://www.promedmail.org/post/6134701',\n",
       "       'http://www.promedmail.org/post/6137813',\n",
       "       'http://www.promedmail.org/post/6135130',\n",
       "       'http://www.promedmail.org/post/6141152',\n",
       "       'http://www.promedmail.org/post/6142425',\n",
       "       'http://www.promedmail.org/post/6143083',\n",
       "       'http://www.promedmail.org/post/6146755',\n",
       "       'http://www.promedmail.org/post/6148920',\n",
       "       'http://www.promedmail.org/post/6152732',\n",
       "       'http://www.promedmail.org/post/6153527',\n",
       "       'http://www.promedmail.org/post/6162269',\n",
       "       'http://www.promedmail.org/post/6165933',\n",
       "       'http://www.promedmail.org/post/6177037',\n",
       "       'http://www.promedmail.org/post/6178716',\n",
       "       'http://www.promedmail.org/post/6216363',\n",
       "       'http://www.promedmail.org/post/6226872',\n",
       "       'http://www.promedmail.org/post/5749835',\n",
       "       'http://www.promedmail.org/post/5753003',\n",
       "       'http://www.who.int/csr/don/20-april-2018-lassa-fever-nigeria/en/',\n",
       "       'https://www.promedmail.org/ Active number 20180428.5771404',\n",
       "       'http://www.promedmail.org/post/5836574',\n",
       "       'http://www.who.int/csr/don/10-may-2018-ebola-drc/en/',\n",
       "       'http://www.who.int/csr/don/14-may-2018-ebola-drc/en/',\n",
       "       'http://www.who.int/csr/don/17-may-2018-ebola-drc/en/',\n",
       "       'http://www.promedmail.org/post/5812214',\n",
       "       'http://www.promedmail.org/post/5793837',\n",
       "       'http://www.who.int/csr/don/21-may-2018-ebola-drc/en/',\n",
       "       'http://www.promedmail.org/post/5824986',\n",
       "       'http://www.promedmail.org/post/5834414',\n",
       "       'http://www.who.int/csr/don/05-june-2018-monkeypox-cameroon/en/',\n",
       "       'http://www.promedmail.org/post/5860330',\n",
       "       'http://www.promedmail.org/post/5877838',\n",
       "       'http://www.promedmail.org/post/5906083',\n",
       "       'http://www.promedmail.org/post/5933127',\n",
       "       'http://www.who.int/csr/don/4-august-2018-ebola-drc/en/',\n",
       "       'http://www.promedmail.org/post/5990110',\n",
       "       'http://www.promedmail.org/post/6018541',\n",
       "       'http://www.promedmail.org/post/6033574',\n",
       "       'http://www.promedmail.org/post/6063125',\n",
       "       'http://www.promedmail.org/post/20181006.6075346',\n",
       "       'http://www.promedmail.org/post/6081500',\n",
       "       'http://www.promedmail.org/post/6090709',\n",
       "       'http://www.promedmail.org/post/6154575',\n",
       "       'http://www.promedmail.org/post/20181007.6076284',\n",
       "       'http://www.promedmail.org/post/20181008.6078216'], dtype=object)"
      ]
     },
     "execution_count": 5,
     "metadata": {},
     "output_type": "execute_result"
    }
   ],
   "source": [
    "idb.url_idb.unique()"
   ]
  },
  {
   "cell_type": "markdown",
   "metadata": {},
   "source": [
    "## Clean up counts"
   ]
  },
  {
   "cell_type": "markdown",
   "metadata": {},
   "source": [
    "We can see that case counts are entered as free text with commas, periods, and spaces in between them. Also free text is entered instead of meerly numbers. The preprocessing in ```idb.py``` removes these commas, periods, and whitespaces. If more than one number is entered such as in \"0 bei Menschen.\\nMehr als 50 Todesfälle bei Kühem. Schafen und Pferden0 bei Menschen\", the script only keeps the first digits mentioned."
   ]
  },
  {
   "cell_type": "code",
   "execution_count": 6,
   "metadata": {},
   "outputs": [
    {
     "data": {
      "text/plain": [
       "array([nan, '20', '65', '2119', '19', 'mind 18', '2', '1', '24', '6',\n",
       "       '12', '3', '16', '10', '995', '5', '112', '29', '67', '130',\n",
       "       '1219', '132', '14', '38', '27', '272', '4',\n",
       "       '0 bei Menschen.\\nMehr als 50 Todesfälle bei Kühem. Schafen und Pferden0 bei Menschen.\\nMehr als 50 Todesfälle bei Kühem. Schafen und Pferden0 bei Menschen.\\nMehr als 50 Todesfälle bei Kühem. Schafen und Pferden0 bei Menschen.\\nMehr als 50 Todesfälle bei Kühem. Schafen und Pferden0 bei Menschen.\\nMehr als 50 Todesfälle bei Kühem. Schafen und Pferden0 bei Menschen.\\nMehr als 50 Todesfälle bei Kühem. Schafen und Pferden0 bei Menschen.\\nMehr als 50 Todesfälle bei Kühem. Schafen und Pferden0 bei Menschen.\\nMehr als 50 Todesfälle bei Kühem. Schafen und Pferden0 bei Menschen.\\nMehr als 50 Todesfälle bei Kühem. Schafen und Pferden0 bei Menschen.\\nMehr als 50 Todesfälle bei Kühem. Schafen und Pferden0 bei Menschen.\\nMehr als 50 Todesfälle bei Kühem. Schafen und Pferden0 bei Menschen.\\nMehr als 50 Todesfälle bei Kühem. Schafen und Pferden0 bei Menschen.\\nMehr als 50 Todesfälle bei Kühem. Schafen und Pferden',\n",
       "       '250', '200', '620', '0', '13 430', '777', '57', '13', '1,207,596',\n",
       "       '650,000', '276', '3762', '9', '455', '1289', '86', '25', '36',\n",
       "       '28', '2950', '512', '3086', 'erhöhte Fallzahlen seit 2013', '438',\n",
       "       '108', '1388', '34', '41', '44', '46', '51', '26', '120', '294',\n",
       "       '127', '145 '], dtype=object)"
      ]
     },
     "execution_count": 6,
     "metadata": {},
     "output_type": "execute_result"
    }
   ],
   "source": [
    "idb[\"Fälle gesamt*\"].unique()"
   ]
  },
  {
   "cell_type": "markdown",
   "metadata": {},
   "source": [
    "## Clean up countries"
   ]
  },
  {
   "cell_type": "markdown",
   "metadata": {},
   "source": [
    "The main problem here is the use of abbreviations and mixed English and German entries. ```idb.py``` fixes these with manually written fixes and uses a cloud based translation for the German country names to English ones."
   ]
  },
  {
   "cell_type": "code",
   "execution_count": 7,
   "metadata": {},
   "outputs": [
    {
     "data": {
      "text/plain": [
       "array(['Oman ', 'Australien', 'Bolivien', 'Yemen', 'La Reunion',\n",
       "       'Schweiz', 'Israel', 'Uganda', 'Kenia', 'Frankreich', 'Liberia',\n",
       "       'Nigeria', 'Costa Rica', 'Kamerun', 'Indien', 'Iran',\n",
       "       'Saudi-Arabien', 'Taiwan', 'Vereinigte Arabische Emirate',\n",
       "       'Brasilien', 'Pakistan', 'USA', 'UK', 'Irak',\n",
       "       'Demokratische Republik Kongo', 'Algerien', 'Peru ', 'DRC',\n",
       "       'Tschechien', 'Spanien', 'Angola', 'China', nan, 'Papua-Neuguinea',\n",
       "       'Vereinigtes Königreich', 'Kongo', 'Französiche Guyana',\n",
       "       'Kroatien', 'Afghanistan', 'VAE Dubai', 'Myanmar', 'Haiti',\n",
       "       'Kuwait', 'VAE ', 'Romänien', 'Deutschland',\n",
       "       'Tschechische Republik', 'Sudan', 'Großbritannien', 'Japan',\n",
       "       'Südafrika', 'Venezuela ', 'Kenya', 'Neuseeland', 'Marokko',\n",
       "       'Ireland', 'Namibia', 'Hong Kong', 'Libanon',\n",
       "       'Dominikanische Republik', 'Argentinien', 'Usbekistan',\n",
       "       'Trinidad & Tobago', 'Peru', 'Italien'], dtype=object)"
      ]
     },
     "execution_count": 7,
     "metadata": {},
     "output_type": "execute_result"
    }
   ],
   "source": [
    "idb[\"Ausgangs- bzw. Ausbruchsland\"].unique()"
   ]
  },
  {
   "cell_type": "markdown",
   "metadata": {},
   "source": [
    "## Clean up diseases"
   ]
  },
  {
   "cell_type": "markdown",
   "metadata": {},
   "source": [
    "The main problem here is the mixture of symptoms and diseases. ```idb.py``` fixes these with manually setting syndroms to NAs, translating abbreviations, and use a cloud based translation to translate words to German"
   ]
  },
  {
   "cell_type": "code",
   "execution_count": 8,
   "metadata": {},
   "outputs": [
    {
     "data": {
      "text/plain": [
       "array(['MERS', 'Listeriose', 'Pest', 'Cholera', 'Leptospirose',\n",
       "       'Tularämie ', 'Tick-borne relapsing fever ', 'Denguefieber',\n",
       "       'Anthrax', nan, 'Hämolytisch-urämisches Syndrom', 'Lassafieber',\n",
       "       'Lassafieber ', 'Malaria', 'Affenpocken',\n",
       "       'Krim-Kongo Hämorrhagisches Fieber', 'Gelbfieber',\n",
       "       'Japanische-Enzephalitis', 'Rifttalfieber', 'Masern', 'Kuhpocken',\n",
       "       'Polio', 'Brucellose', 'Acute encephalitis syndrome',\n",
       "       'Primary Amebic Meningo-encephalitis [PAM]', 'Ebolafieber', 'TBE',\n",
       "       'Legionellose', 'Hämorrhagisches Fieber', 'keine', 'AFP',\n",
       "       'Influenza', 'FSME ', '?',\n",
       "       'Nierenversagen; v.a. HUS, Leptospirose', 'West-Nil-Fieber',\n",
       "       'Poliomyelitis', 'Husten, Fieber', 'Bilharziose', 'Fieber',\n",
       "       'Röteln', 'Melioidosis', 'Buruli-Ulkus', 'Hepatitis A', 'Sepsis',\n",
       "       'Meningitis', 'NEC (Nekrotisierende Enterokolitis)', 'Tollwut',\n",
       "       'Mumps', ' ', 'Hepatitis E', 'Ebola', 'Guillain-Barré Syndrom',\n",
       "       'Lungenentzündung', 'Norovirus-Gastroenteritis'], dtype=object)"
      ]
     },
     "execution_count": 8,
     "metadata": {},
     "output_type": "execute_result"
    }
   ],
   "source": [
    "idb[\"Krankheitsbild(er)\"].unique()"
   ]
  }
 ],
 "metadata": {
  "kernelspec": {
   "display_name": "Python 3",
   "language": "python",
   "name": "python3"
  },
  "language_info": {
   "codemirror_mode": {
    "name": "ipython",
    "version": 3
   },
   "file_extension": ".py",
   "mimetype": "text/x-python",
   "name": "python",
   "nbconvert_exporter": "python",
   "pygments_lexer": "ipython3",
   "version": "3.7.7"
  }
 },
 "nbformat": 4,
 "nbformat_minor": 4
}
